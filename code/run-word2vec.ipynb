{
 "cells": [
  {
   "cell_type": "markdown",
   "metadata": {},
   "source": [
    "# Summary\n",
    "\n",
    "Runs [fasttext's](https://fasttext.cc/) word2vec on n-days of reading sessions"
   ]
  },
  {
   "cell_type": "markdown",
   "metadata": {},
   "source": [
    "### Imports etc."
   ]
  },
  {
   "cell_type": "code",
   "execution_count": 1,
   "metadata": {},
   "outputs": [
    {
     "name": "stdout",
     "output_type": "stream",
     "text": [
      "ready\n"
     ]
    }
   ],
   "source": [
    "import copy\n",
    "import csv\n",
    "import datetime\n",
    "import math\n",
    "\n",
    "import numpy as np\n",
    "import pandas as pd\n",
    "import os,sys\n",
    "import json\n",
    "import time\n",
    "\n",
    "import fasttext\n",
    "print('ready')"
   ]
  },
  {
   "cell_type": "markdown",
   "metadata": {},
   "source": [
    "## Prepare data"
   ]
  },
  {
   "cell_type": "code",
   "execution_count": 14,
   "metadata": {},
   "outputs": [],
   "source": [
    "# ## select which files to train on\n",
    "day_start = datetime.date(2020,4,27)\n",
    "day_end = datetime.date(2020,4,28)\n",
    "date_array = \\\n",
    "    (day_start + datetime.timedelta(days=x) for x in range(0, (day_end-day_start).days))\n",
    "\n",
    "\n",
    "lang = 'wikidata'\n",
    "# lang = 'enwiki'"
   ]
  },
  {
   "cell_type": "code",
   "execution_count": 15,
   "metadata": {},
   "outputs": [
    {
     "name": "stdout",
     "output_type": "stream",
     "text": [
      "1\n"
     ]
    }
   ],
   "source": [
    "## get all the files\n",
    "PATH_FILES = '../output/reading-sessions-filtered'\n",
    "PATH_OUT = '../output/models'\n",
    "list_filenames = []\n",
    "for date_object in date_array:\n",
    "    day_str = date_object.strftime(\"%Y-%m-%d\")#str(datetime.date(year,month,day))\n",
    "    filename = os.path.join(\n",
    "        PATH_FILES,\n",
    "       'reading-sessions-filtered_%s_%s'%(lang,day_str)\n",
    "    )\n",
    "    list_filenames += [filename]\n",
    "print(len(list_filenames))"
   ]
  },
  {
   "cell_type": "code",
   "execution_count": 16,
   "metadata": {},
   "outputs": [],
   "source": [
    "## create a single training file for fasttext\n",
    "## this file will be deledted after training\n",
    "from multiprocessing import Pool\n",
    "n_cores_max = 20 ## use at most this many cores to read the individual files when creating a single file\n",
    "\n",
    "PATH_tmp = '../tmp/'\n",
    "if not os.path.exists(PATH_tmp):\n",
    "    os.makedirs(PATH_tmp)\n",
    "FILE_tmp = os.path.join(PATH_tmp,'tmp_corpus.train')\n",
    "limit = -1 ## number of lines per file (-1 if all)\n",
    "def make_tmp_corpus_from_files(filename_in):\n",
    "    with open(FILE_tmp,'a') as fout:\n",
    "        i = 0\n",
    "        for line in open(filename_in):\n",
    "            i+=1\n",
    "            fout.write(line)\n",
    "            if i==limit:\n",
    "                break\n",
    "    return None\n",
    "\n",
    "## append files into single file for fasttext\n",
    "n_files = len(list_filenames)\n",
    "with open(FILE_tmp,'w') as fin:\n",
    "    fin.write('')\n",
    "try:\n",
    "    pool = Pool( min([n_files,n_cores_max]))\n",
    "    pool.map(make_tmp_corpus_from_files,list_filenames)\n",
    "finally:\n",
    "    pool.close()\n",
    "    pool.join()"
   ]
  },
  {
   "cell_type": "code",
   "execution_count": 17,
   "metadata": {},
   "outputs": [
    {
     "data": {
      "text/plain": [
       "53922695"
      ]
     },
     "execution_count": 17,
     "metadata": {},
     "output_type": "execute_result"
    }
   ],
   "source": [
    "i=0\n",
    "for line in open(FILE_tmp):\n",
    "    i+=1\n",
    "i"
   ]
  },
  {
   "cell_type": "markdown",
   "metadata": {},
   "source": [
    "## Train"
   ]
  },
  {
   "cell_type": "code",
   "execution_count": 18,
   "metadata": {},
   "outputs": [],
   "source": [
    "## Parameters\n",
    "mode = 'cbow' ## (if 1: skip-gram, else cbow)\n",
    "size = 50 ## number of dimensions\n",
    "window = 5 ## context window size\n",
    "sample = 0.001 ## downsample high-frequency words\n",
    "negative = 5 ##negative sampling (noise words)\n",
    "min_count = 20 ## words with less occurrences in total will be ignored\n",
    "epochs  = 5 ## number of iterations\n",
    "workers = 20 ## number of cores to use\n"
   ]
  },
  {
   "cell_type": "code",
   "execution_count": 19,
   "metadata": {},
   "outputs": [
    {
     "name": "stdout",
     "output_type": "stream",
     "text": [
      "356.15539026260376\n"
     ]
    },
    {
     "data": {
      "text/plain": [
       "0"
      ]
     },
     "execution_count": 19,
     "metadata": {},
     "output_type": "execute_result"
    }
   ],
   "source": [
    "## train the model\n",
    "t1=time.time()\n",
    "model = fasttext.train_unsupervised(\n",
    "    FILE_tmp, \n",
    "    dim = size, epoch=epochs, model=mode,minCount=min_count,ws=window,neg=negative, t=sample,\n",
    "    thread=workers,\n",
    "    maxn=0 ## no subword\n",
    ")\n",
    "t2=time.time()\n",
    "print(t2-t1)\n",
    "\n",
    "## remove tmp corpus file\n",
    "os.system('rm -f %s'%FILE_tmp)"
   ]
  },
  {
   "cell_type": "code",
   "execution_count": 20,
   "metadata": {},
   "outputs": [],
   "source": [
    "filename_save = os.path.join(\n",
    "    PATH_OUT,\n",
    "    'word2vec_%s_%s--%s_params-%s-%s-%s-%s-%s-%s-%s.bin'%(\n",
    "        lang,str(day_start),str(day_end),\n",
    "        mode,size,window,sample,negative,min_count,epochs\n",
    "    )\n",
    ")\n",
    "model.save_model(filename_save)"
   ]
  },
  {
   "cell_type": "code",
   "execution_count": null,
   "metadata": {},
   "outputs": [],
   "source": []
  },
  {
   "cell_type": "code",
   "execution_count": null,
   "metadata": {},
   "outputs": [],
   "source": []
  },
  {
   "cell_type": "code",
   "execution_count": 21,
   "metadata": {},
   "outputs": [
    {
     "data": {
      "text/plain": [
       "1174834"
      ]
     },
     "execution_count": 21,
     "metadata": {},
     "output_type": "execute_result"
    }
   ],
   "source": [
    "len(model.get_words())"
   ]
  },
  {
   "cell_type": "code",
   "execution_count": null,
   "metadata": {},
   "outputs": [],
   "source": []
  }
 ],
 "metadata": {
  "kernelspec": {
   "display_name": "venv_gensim",
   "language": "python",
   "name": "venv_gensim"
  },
  "language_info": {
   "codemirror_mode": {
    "name": "ipython",
    "version": 3
   },
   "file_extension": ".py",
   "mimetype": "text/x-python",
   "name": "python",
   "nbconvert_exporter": "python",
   "pygments_lexer": "ipython3",
   "version": "3.7.3"
  }
 },
 "nbformat": 4,
 "nbformat_minor": 2
}
