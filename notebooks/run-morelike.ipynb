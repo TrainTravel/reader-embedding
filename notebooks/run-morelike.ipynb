{
 "cells": [
  {
   "cell_type": "markdown",
   "metadata": {},
   "source": [
    "# Summary\n",
    "\n",
    "Learn a word2vec model for 1 week of sessions"
   ]
  },
  {
   "cell_type": "markdown",
   "metadata": {},
   "source": [
    "### Imports etc."
   ]
  },
  {
   "cell_type": "code",
   "execution_count": 2,
   "metadata": {},
   "outputs": [
    {
     "name": "stdout",
     "output_type": "stream",
     "text": [
      "ready\n"
     ]
    }
   ],
   "source": [
    "import datetime\n",
    "import numpy as np\n",
    "import os,sys\n",
    "import json\n",
    "import time\n",
    "import random\n",
    "import requests\n",
    "print('ready')"
   ]
  },
  {
   "cell_type": "code",
   "execution_count": null,
   "metadata": {},
   "outputs": [],
   "source": []
  },
  {
   "cell_type": "code",
   "execution_count": 62,
   "metadata": {},
   "outputs": [
    {
     "name": "stdout",
     "output_type": "stream",
     "text": [
      "True\n",
      "True\n"
     ]
    }
   ],
   "source": [
    "## select the test data\n",
    "day_start = datetime.date(2020,4,1)\n",
    "n_days = 30\n",
    "N_sel = 785726\n",
    "wiki = 'simplewiki'\n",
    "ids = 'pageid'\n",
    "\n",
    "N_eval_max = 10\n",
    "k = 100\n",
    "\n",
    "filename = '../../reader_navigation/output/reading-sessions-corpora/%s-%s_%s_ndays-%s_sample-%s'%(wiki,ids,str(day_start),n_days,N_sel)\n",
    "ftest = filename+'.test'\n",
    "fdev = filename+'.dev'\n",
    "\n",
    "print(os.path.isfile(ftest))\n",
    "print(os.path.isfile(fdev))"
   ]
  },
  {
   "cell_type": "code",
   "execution_count": 65,
   "metadata": {},
   "outputs": [
    {
     "name": "stdout",
     "output_type": "stream",
     "text": [
      "Completed 10 paths\n",
      "Completed 10 paths\n"
     ]
    }
   ],
   "source": [
    "## get the query data (page-ids)\n",
    "\n",
    "def prepare_queries_pairs(f, N_max = -1 ):\n",
    "    '''\n",
    "    from a file containing sequences of pageview.\n",
    "    select one random pair of consecutive pageivews.\n",
    "    returns a list of tuples [(src,trg)], where src, trg are of type str.\n",
    "\n",
    "    get at most N_max pairs (default is -1 == all).\n",
    "    '''\n",
    "    queries = []; count=0\n",
    "    for line in open(f):\n",
    "        session = line.strip().split(\" \")\n",
    "        if len(session)>=2:\n",
    "            idx_src = random.randint(0,len(session)-2)\n",
    "            queries.append(( session[idx_src],session[idx_src+1] ))\n",
    "            count+=1\n",
    "        if count == N_max:\n",
    "            break\n",
    "    print(\"Completed \"+str(count)+\" paths\")\n",
    "    return queries\n",
    "\n",
    "queries_dev = prepare_queries_pairs(fdev,N_max=N_eval_max)\n",
    "queries_test = prepare_queries_pairs(ftest,N_max=N_eval_max)"
   ]
  },
  {
   "cell_type": "code",
   "execution_count": null,
   "metadata": {},
   "outputs": [],
   "source": []
  },
  {
   "cell_type": "code",
   "execution_count": 60,
   "metadata": {},
   "outputs": [],
   "source": [
    "def titleFromPageid(page_id,wiki):\n",
    "    '''\n",
    "    query wikipedia-API to get the pagetitle from a pageid\n",
    "    '''\n",
    "    ## get the page-ids\n",
    "    api_url_base = 'https://%s.wikipedia.org/w/api.php'%( wiki.replace('wiki','') )\n",
    "    params = {\n",
    "        \"action\": \"query\",\n",
    "        \"pageids\": page_id,\n",
    "        \"prop\": \"pageprops\",\n",
    "        \"format\": \"json\",\n",
    "    }\n",
    "    try:\n",
    "        response = requests.get( api_url_base,params=params).json()\n",
    "        if 'query' in response:\n",
    "            if 'pages' in response['query']:\n",
    "                title = response['query']['pages'].get(page_id,{}).get('title','')\n",
    "\n",
    "    except:\n",
    "        title = ''\n",
    "    return title\n",
    "\n",
    "## morelike search\n",
    "def morelikeFromTitle(title,wiki,k=100):\n",
    "    '''\n",
    "    do morelike search https://www.mediawiki.org/wiki/Help:CirrusSearch#Morelike\n",
    "    get k recommendations for a page-title in a given wiki.\n",
    "    Return titles and pageids.\n",
    "    '''\n",
    "\n",
    "    api_url_base = 'https://%s.wikipedia.org/w/api.php'%( wiki.replace('wiki','') )\n",
    "    ## https://www.mediawiki.org/wiki/API:Search\n",
    "    ## https://www.mediawiki.org/wiki/Help:CirrusSearch#Morelike\n",
    "\n",
    "    params = {\n",
    "        'action': 'query',\n",
    "        'list': 'search',\n",
    "        'format': 'json',\n",
    "        'srsearch': 'morelike:'+title,\n",
    "        'srnamespace' : 0,\n",
    "        'srwhat': 'text',\n",
    "        'srprop': 'wordcount',\n",
    "        'srlimit': k\n",
    "    }\n",
    "    try:\n",
    "        response = requests.get( api_url_base,params=params).json()\n",
    "    except:\n",
    "        print('Could not do morelike search for %s in %s. Try another article or another language.' % (title,wiki))\n",
    "        return [] \n",
    "\n",
    "    if 'query' not in response or 'search' not in response['query']:\n",
    "        print('Could not do morelike search for %s in %s. Try another article or another language.' % (title,wiki))\n",
    "        return []\n",
    "    return response['query']['search']\n",
    "\n",
    "def morelikeFromPageid(page_id,wiki,k=100):\n",
    "    '''\n",
    "    before querying morelikeFromTitle we have to get the title from the pageid\n",
    "    '''\n",
    "    title = titleFromPageid(str(page_id),wiki)\n",
    "    if len(title)>0:\n",
    "        result = morelikeFromTitle(title,wiki,k=k)\n",
    "    else:\n",
    "        result = []\n",
    "    return result\n",
    "\n",
    "def queriesPairsToRank(queries,wiki,k=100):\n",
    "    '''\n",
    "    from a list of pairs (src,target)\n",
    "    - get the k nearest neighbors of src via morelike in specific wiki\n",
    "    - check rank of trg among nearest neighbors\n",
    "    '''\n",
    "    t_rest = 0.1 ## be nice to morelike API\n",
    "    rank_list = []\n",
    "    for pid_src,pid_trg in queries:\n",
    "        result = morelikeFromPageid(pid_src,wiki)\n",
    "        pid_src_nn = [str(nn['pageid']) for nn in result  ]\n",
    "        try:\n",
    "            rank = pid_src_nn.index(pid_trg)+1\n",
    "        except ValueError:\n",
    "            rank = 1e6\n",
    "        rank_list.append(rank)\n",
    "        \n",
    "        time.sleep(t_rest)\n",
    "    return np.array(rank_list)\n",
    "\n",
    " \n",
    "def metrics(mrr_list):\n",
    "    '''\n",
    "    calculate metrics associated with rank querying from a list of ranks\n",
    "    - mrr (mean reciprocal rank)\n",
    "    - recall@k, whether trg was among top-k in mrr-list\n",
    "    '''\n",
    "    mrr = np.mean(1/mrr_list)\n",
    "    recall1 = np.where((mrr_list <= 1) & (mrr_list != 1e6))[0].shape[0]/mrr_list.shape[0]\n",
    "    recall10 = np.where((mrr_list <= 10) & (mrr_list != 1e6))[0].shape[0]/mrr_list.shape[0]\n",
    "    recall50 = np.where((mrr_list <= 50) & (mrr_list != 1e6))[0].shape[0]/mrr_list.shape[0]\n",
    "    recall100 = np.where((mrr_list <= 100) & (mrr_list != 1e6))[0].shape[0]/mrr_list.shape[0]\n",
    "    \n",
    "    dict_result = {\n",
    "        'N':mrr_list.shape[0], \n",
    "        'MRR':mrr,\n",
    "        'Recall@1':recall1,\n",
    "        'Recall@10':recall10,\n",
    "        'Recall@50':recall50,\n",
    "        'Recall@100':recall100\n",
    "    }\n",
    "    return dict_result\n",
    "#     return mrr_list.shape[0], mrr, recall1, recall10, recall50, recall100\n",
    "\n",
    "def queriesPairsEval(queries,wiki,k=100):\n",
    "    list_rank = queriesPairsToRank(queries,wiki,k=k)\n",
    "    return metrics(list_rank)"
   ]
  },
  {
   "cell_type": "code",
   "execution_count": 64,
   "metadata": {},
   "outputs": [
    {
     "name": "stdout",
     "output_type": "stream",
     "text": [
      "{'N': 10, 'MRR': 0.1500008, 'Recall@1': 0.1, 'Recall@10': 0.2, 'Recall@50': 0.2, 'Recall@100': 0.2}\n",
      "{'N': 10, 'MRR': 0.1833340333333333, 'Recall@1': 0.1, 'Recall@10': 0.3, 'Recall@50': 0.3, 'Recall@100': 0.3}\n"
     ]
    }
   ],
   "source": [
    "result_dev = queriesPairsEval(queries_dev,wiki=wiki,k=k)\n",
    "result_test = queriesPairsEval(queries_test,wiki=wiki,k=k)\n",
    "print(result_dev)\n",
    "print(result_test)"
   ]
  },
  {
   "cell_type": "code",
   "execution_count": null,
   "metadata": {},
   "outputs": [],
   "source": []
  }
 ],
 "metadata": {
  "kernelspec": {
   "display_name": "venv_gensim",
   "language": "python",
   "name": "venv_gensim"
  },
  "language_info": {
   "codemirror_mode": {
    "name": "ipython",
    "version": 3
   },
   "file_extension": ".py",
   "mimetype": "text/x-python",
   "name": "python",
   "nbconvert_exporter": "python",
   "pygments_lexer": "ipython3",
   "version": "3.7.3"
  }
 },
 "nbformat": 4,
 "nbformat_minor": 2
}
